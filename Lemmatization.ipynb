{
 "cells": [
  {
   "cell_type": "markdown",
   "metadata": {
    "id": "I5M7vK1dbRx-"
   },
   "source": [
    "<CENTER> <H1>Program for lemmatizing words Using WordNet </H1></CENTER"
   ]
  },
  {
   "cell_type": "markdown",
   "metadata": {
    "id": "XVhDWW5ncI1W"
   },
   "source": [
    "Lemmatization is beyond word reduction and considers a language’s full vocabulary to apply a morphological analysis to words, aiming to remove inflectional endings only and to return the base or dictionary form of a word, which is known as the lemma."
   ]
  },
  {
   "cell_type": "code",
   "execution_count": null,
   "metadata": {
    "id": "qay5O0fMbMaM"
   },
   "outputs": [],
   "source": [
    "import nltk \n",
    "nltk.download('all') "
   ]
  },
  {
   "cell_type": "markdown",
   "metadata": {
    "id": "VMJClt1jeH4i"
   },
   "source": [
    "# WordNet lemmatization without POS tagging"
   ]
  },
  {
   "cell_type": "code",
   "execution_count": 21,
   "metadata": {
    "colab": {
     "base_uri": "https://localhost:8080/"
    },
    "executionInfo": {
     "elapsed": 480,
     "status": "ok",
     "timestamp": 1633706991610,
     "user": {
      "displayName": "R AKHILANDESHWARI 2048046",
      "photoUrl": "https://lh3.googleusercontent.com/a-/AOh14GiIkCurCgc78Nn4rfHenbXpNzRwE23THtku9QZFlQ=s64",
      "userId": "00252764270953512856"
     },
     "user_tz": -330
    },
    "id": "VRbD58XtdIWv",
    "outputId": "cd84f883-6ead-4fdf-9bca-f441140046e6"
   },
   "outputs": [
    {
     "name": "stdout",
     "output_type": "stream",
     "text": [
      "KITES ---> KITES\n",
      "BABIES ---> BABIES\n",
      "DOGS ---> DOGS\n",
      "FLYING ---> FLYING\n",
      "SMILING ---> SMILING\n",
      "DRIVING ---> DRIVING\n",
      "DIED ---> DIED\n",
      "TRIED ---> TRIED\n",
      "FEET ---> FEET\n",
      "CALFS ---> CALFS\n",
      "CHILDREN ---> CHILDREN\n",
      "WOMEN ---> WOMEN\n",
      "****************************** AFTER CONVERTING TO LOWERCASE ******************************\n",
      "kites ---> kite\n",
      "babies ---> baby\n",
      "dogs ---> dog\n",
      "flying ---> flying\n",
      "smiling ---> smiling\n",
      "driving ---> driving\n",
      "died ---> died\n",
      "tried ---> tried\n",
      "feet ---> foot\n",
      "calfs ---> calf\n",
      "children ---> child\n",
      "women ---> woman\n"
     ]
    }
   ],
   "source": [
    "# Importing the package\n",
    "from nltk.stem import WordNetLemmatizer\n",
    "\n",
    "# Create WordNetLemmatizer object\n",
    "wnl = WordNetLemmatizer()\n",
    " \n",
    "# single word lemmatization examples\n",
    "list1 = ['KITES','BABIES','DOGS','FLYING','SMILING','DRIVING',\n",
    "         'DIED','TRIED','FEET','CALFS','CHILDREN','WOMEN']\n",
    "for words in list1:\n",
    "    print(words + \" ---> \" + wnl.lemmatize(words))\n",
    "\n",
    "print('*'*30,'AFTER CONVERTING TO LOWERCASE','*'*30)\n",
    "\n",
    "\n",
    "# single word lemmatization examples\n",
    "list1 = ['kites', 'babies', 'dogs', 'flying', 'smiling',\n",
    "         'driving', 'died', 'tried', 'feet','calfs','children','women']\n",
    "for words in list1:\n",
    "    print(words + \" ---> \" + wnl.lemmatize(words))\n"
   ]
  },
  {
   "cell_type": "code",
   "execution_count": 13,
   "metadata": {
    "colab": {
     "base_uri": "https://localhost:8080/"
    },
    "executionInfo": {
     "elapsed": 346,
     "status": "ok",
     "timestamp": 1633706675593,
     "user": {
      "displayName": "R AKHILANDESHWARI 2048046",
      "photoUrl": "https://lh3.googleusercontent.com/a-/AOh14GiIkCurCgc78Nn4rfHenbXpNzRwE23THtku9QZFlQ=s64",
      "userId": "00252764270953512856"
     },
     "user_tz": -330
    },
    "id": "jR3w4lcPdXHQ",
    "outputId": "4c8bc757-f7e6-45b5-e2a0-707e399db1e4"
   },
   "outputs": [
    {
     "name": "stdout",
     "output_type": "stream",
     "text": [
      "['the', 'cat', 'is', 'sitting', 'with', 'the', 'bats', 'on', 'the', 'striped', 'mat', 'under', 'many', 'badly', 'flying', 'geese']\n",
      "the cat is sitting with the bat on the striped mat under many badly flying goose\n"
     ]
    }
   ],
   "source": [
    "# sentence lemmatization examples\n",
    "string = ('the cat is sitting with the bats on the striped mat under many badly flying geese')\n",
    "\n",
    "# Converting String into tokens\n",
    "list2 = nltk.word_tokenize(string)\n",
    "print(list2)\n",
    "\n",
    "lemmatized_string = ' '.join([wnl.lemmatize(words) for words in list2])\n",
    "\n",
    "print(lemmatized_string)"
   ]
  },
  {
   "cell_type": "markdown",
   "metadata": {
    "id": "mRXFDjNAeOuf"
   },
   "source": [
    "# WordNet lemmatization with POS tagging"
   ]
  },
  {
   "cell_type": "code",
   "execution_count": 9,
   "metadata": {
    "executionInfo": {
     "elapsed": 354,
     "status": "ok",
     "timestamp": 1633706303966,
     "user": {
      "displayName": "R AKHILANDESHWARI 2048046",
      "photoUrl": "https://lh3.googleusercontent.com/a-/AOh14GiIkCurCgc78Nn4rfHenbXpNzRwE23THtku9QZFlQ=s64",
      "userId": "00252764270953512856"
     },
     "user_tz": -330
    },
    "id": "tg3PthdWeUZB"
   },
   "outputs": [],
   "source": [
    "from nltk.corpus import wordnet"
   ]
  },
  {
   "cell_type": "code",
   "execution_count": 6,
   "metadata": {
    "executionInfo": {
     "elapsed": 359,
     "status": "ok",
     "timestamp": 1633706221312,
     "user": {
      "displayName": "R AKHILANDESHWARI 2048046",
      "photoUrl": "https://lh3.googleusercontent.com/a-/AOh14GiIkCurCgc78Nn4rfHenbXpNzRwE23THtku9QZFlQ=s64",
      "userId": "00252764270953512856"
     },
     "user_tz": -330
    },
    "id": "oo6Yj0qveo4e"
   },
   "outputs": [],
   "source": [
    "# Define function to lemmatize each word with its POS tag\n",
    "# POS_TAGGER_FUNCTION : TYPE 1\n",
    "def pos_tagger(nltk_tag):\n",
    "    if nltk_tag.startswith('J'):\n",
    "        return wordnet.ADJ\n",
    "    elif nltk_tag.startswith('V'):\n",
    "        return wordnet.VERB\n",
    "    elif nltk_tag.startswith('N'):\n",
    "        return wordnet.NOUN\n",
    "    elif nltk_tag.startswith('R'):\n",
    "        return wordnet.ADV\n",
    "    else:         \n",
    "        return None"
   ]
  },
  {
   "cell_type": "code",
   "execution_count": 7,
   "metadata": {
    "colab": {
     "base_uri": "https://localhost:8080/"
    },
    "executionInfo": {
     "elapsed": 409,
     "status": "ok",
     "timestamp": 1633706238531,
     "user": {
      "displayName": "R AKHILANDESHWARI 2048046",
      "photoUrl": "https://lh3.googleusercontent.com/a-/AOh14GiIkCurCgc78Nn4rfHenbXpNzRwE23THtku9QZFlQ=s64",
      "userId": "00252764270953512856"
     },
     "user_tz": -330
    },
    "id": "qbK2xzKXetRc",
    "outputId": "f756adb1-3486-47b0-bb39-a213a97b051b"
   },
   "outputs": [
    {
     "name": "stdout",
     "output_type": "stream",
     "text": [
      "[('the', 'DT'), ('cat', 'NN'), ('is', 'VBZ'), ('sitting', 'VBG'), ('with', 'IN'), ('the', 'DT'), ('bats', 'NNS'), ('on', 'IN'), ('the', 'DT'), ('striped', 'JJ'), ('mat', 'NN'), ('under', 'IN'), ('many', 'JJ'), ('badly', 'RB'), ('flying', 'VBG'), ('geese', 'JJ')]\n"
     ]
    }
   ],
   "source": [
    "sentence = 'the cat is sitting with the bats on the striped mat under many badly flying geese'\n",
    " \n",
    "# tokenize the sentence and find the POS tag for each token\n",
    "pos_tagged = nltk.pos_tag(nltk.word_tokenize(sentence)) \n",
    " \n",
    "print(pos_tagged)"
   ]
  },
  {
   "cell_type": "code",
   "execution_count": 10,
   "metadata": {
    "colab": {
     "base_uri": "https://localhost:8080/"
    },
    "executionInfo": {
     "elapsed": 328,
     "status": "ok",
     "timestamp": 1633706308407,
     "user": {
      "displayName": "R AKHILANDESHWARI 2048046",
      "photoUrl": "https://lh3.googleusercontent.com/a-/AOh14GiIkCurCgc78Nn4rfHenbXpNzRwE23THtku9QZFlQ=s64",
      "userId": "00252764270953512856"
     },
     "user_tz": -330
    },
    "id": "OXKTa8z2e2l6",
    "outputId": "d212adfd-0a1a-4c6d-c175-ec371914803a"
   },
   "outputs": [
    {
     "name": "stdout",
     "output_type": "stream",
     "text": [
      "[('the', None), ('cat', 'n'), ('is', 'v'), ('sitting', 'v'), ('with', None), ('the', None), ('bats', 'n'), ('on', None), ('the', None), ('striped', 'a'), ('mat', 'n'), ('under', None), ('many', 'a'), ('badly', 'r'), ('flying', 'v'), ('geese', 'a')]\n"
     ]
    }
   ],
   "source": [
    "# we use our own pos_tagger function to make things simpler to understand.\n",
    "wordnet_tagged = list(map(lambda x: (x[0], pos_tagger(x[1])), pos_tagged))\n",
    "print(wordnet_tagged)"
   ]
  },
  {
   "cell_type": "code",
   "execution_count": 12,
   "metadata": {
    "colab": {
     "base_uri": "https://localhost:8080/"
    },
    "executionInfo": {
     "elapsed": 368,
     "status": "ok",
     "timestamp": 1633706449614,
     "user": {
      "displayName": "R AKHILANDESHWARI 2048046",
      "photoUrl": "https://lh3.googleusercontent.com/a-/AOh14GiIkCurCgc78Nn4rfHenbXpNzRwE23THtku9QZFlQ=s64",
      "userId": "00252764270953512856"
     },
     "user_tz": -330
    },
    "id": "kpDXpoApfW2B",
    "outputId": "340a1484-0f54-4865-977f-bdcb28575757"
   },
   "outputs": [
    {
     "name": "stdout",
     "output_type": "stream",
     "text": [
      "the cat be sit with the bat on the striped mat under many badly fly geese\n"
     ]
    }
   ],
   "source": [
    "lemmatizer = WordNetLemmatizer()\n",
    "lemmatized_sentence = []\n",
    "for word, tag in wordnet_tagged:\n",
    "    if tag is None:\n",
    "        # if there is no available tag, append the token as is\n",
    "        lemmatized_sentence.append(word)\n",
    "    else:       \n",
    "        # else use the tag to lemmatize the token\n",
    "        lemmatized_sentence.append(lemmatizer.lemmatize(word, tag))\n",
    "lemmatized_sentence = \" \".join(lemmatized_sentence)\n",
    " \n",
    "print(lemmatized_sentence)"
   ]
  },
  {
   "cell_type": "markdown",
   "metadata": {
    "id": "dxHJp5x1meZP"
   },
   "source": [
    "# <h2> Inference </h2>"
   ]
  },
  {
   "cell_type": "markdown",
   "metadata": {
    "id": "RPafA8c1g5Fg"
   },
   "source": [
    "1. The lemmatization doesn't work properly, if the words are in uppercase.\n",
    "2. If we notice the above words, the plural forms are converted to the singular form.\n",
    "3. The general lemmatization, doesn't trunk the suffix 'ing','ed'.\n",
    "4. The general sentence lemmatization without POS tagging doesn't trunk the word properly.\n",
    "5. We have given the statement as \"the cat is sitting with the bats on the striped mat under many badly flying geese\", but we could see that the lemmatization using the POS tagging gave the exact content of the sentance, where as without the POS tagging, the content explaination was missing. "
   ]
  }
 ],
 "metadata": {
  "colab": {
   "authorship_tag": "ABX9TyPx8zlGG0up8LBpAo32EmpP",
   "collapsed_sections": [
    "VMJClt1jeH4i",
    "mRXFDjNAeOuf",
    "dxHJp5x1meZP"
   ],
   "name": "PROGRAM7_2048046.ipynb",
   "provenance": []
  },
  "kernelspec": {
   "display_name": "Python 3",
   "language": "python",
   "name": "python3"
  },
  "language_info": {
   "codemirror_mode": {
    "name": "ipython",
    "version": 3
   },
   "file_extension": ".py",
   "mimetype": "text/x-python",
   "name": "python",
   "nbconvert_exporter": "python",
   "pygments_lexer": "ipython3",
   "version": "3.8.5"
  }
 },
 "nbformat": 4,
 "nbformat_minor": 1
}
