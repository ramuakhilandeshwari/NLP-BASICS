{
 "cells": [
  {
   "cell_type": "markdown",
   "metadata": {},
   "source": [
    "# <CENTER> NLP LAB-6 </CENTER>"
   ]
  },
  {
   "cell_type": "markdown",
   "metadata": {},
   "source": [
    "### 1) Use a minimum of 5 Stemmers(Specific to the language)  and maximum N \n",
    "### 2) Compare each output with any one of the stemmers used before( English:Porter stemmer)\n",
    "### 3)Interpret the inflection for each output."
   ]
  },
  {
   "cell_type": "markdown",
   "metadata": {},
   "source": [
    "Stemming in NLP is the process of removing prefixes and suffixes from words so that they are reduced to simpler forms which are called stems. The purpose of stemming is the same as with lemmatization: to reduce our vocabulary and dimensionality for NLP tasks and to improve speed and efficiency in information retrieval and information processing tasks. Stemming is a simpler, faster process than lemmatization, but for simpler use cases, it can have the same effect. The difference is that stemming is usually only rule-based approach."
   ]
  },
  {
   "attachments": {
    "image.png": {
     "image/png": "[encoded data removed]"
    }
   },
   "cell_type": "markdown",
   "metadata": {},
   "source": [
    "![image.png](attachment:image.png)"
   ]
  },
  {
   "cell_type": "code",
   "execution_count": 3,
   "metadata": {},
   "outputs": [
    {
     "name": "stdout",
     "output_type": "stream",
     "text": [
      "Requirement already satisfied: nltk in c:\\users\\akhil\\anaconda3\\lib\\site-packages (3.5)\n",
      "Requirement already satisfied: joblib in c:\\users\\akhil\\anaconda3\\lib\\site-packages (from nltk) (0.17.0)\n",
      "Requirement already satisfied: regex in c:\\users\\akhil\\anaconda3\\lib\\site-packages (from nltk) (2020.10.15)\n",
      "Requirement already satisfied: click in c:\\users\\akhil\\anaconda3\\lib\\site-packages (from nltk) (7.1.2)\n",
      "Requirement already satisfied: tqdm in c:\\users\\akhil\\anaconda3\\lib\\site-packages (from nltk) (4.50.2)\n"
     ]
    }
   ],
   "source": [
    "!pip install nltk"
   ]
  },
  {
   "cell_type": "code",
   "execution_count": null,
   "metadata": {},
   "outputs": [],
   "source": [
    "from nltk.stem.snowball import SnowballStemmer\n",
    "from nltk.stem.snowball import GermanStemmer\n",
    "from nltk.stem.cistem import Cistem\n",
    "from nltk.stem import LancasterStemmer\n",
    "from nltk.stem import PorterStemmer "
   ]
  },
  {
   "cell_type": "code",
   "execution_count": 27,
   "metadata": {},
   "outputs": [],
   "source": [
    "# Defining the function that will take the String/word as the input and gives us the german stemmer\n",
    "def German_Stemmer(word):\n",
    "    print (\"The string is\\t:\",word)\n",
    "    # Snow Ball Stemmer\n",
    "    stemmer_1 = SnowballStemmer(language=\"german\")\n",
    "    print('Snowball stemmer\\t:',stemmer_1.stem(word))\n",
    "    \n",
    "    # German Stemmer\n",
    "    stemmer_2 = GermanStemmer()\n",
    "    print('German stemmer\\t:',stemmer_2.stem(word))\n",
    "    \n",
    "    # Cistem Stemmer\n",
    "    stemmer_3 = Cistem()\n",
    "    print('Cistem stemmer\\t:',stemmer_3.segment(word))\n",
    "    \n",
    "    # Lancaster Stemmer\n",
    "    lancaster=LancasterStemmer(language='german')\n",
    "    print(\"Lancaster stemmer\\t:\",lancaster.stem(word))\n",
    "    \n",
    "    # Porter Stemmer\n",
    "    porter = PorterStemmer()\n",
    "    print(\"Porter stemmer\\t:\",porter.stem(word))"
   ]
  },
  {
   "cell_type": "code",
   "execution_count": 31,
   "metadata": {},
   "outputs": [
    {
     "name": "stdout",
     "output_type": "stream",
     "text": [
      "The string is\t: Vorgeben\n",
      "Snowball stemmer\t: vorgeb\n",
      "German stemmer\t: vorgeb\n",
      "Cistem stemmer\t: ('vorgeb', 'en')\n",
      "Lancaster stemmer\t: vorgeb\n",
      "Porter stemmer\t: vorgeben\n"
     ]
    }
   ],
   "source": [
    "# English : Pretend\n",
    "German_Stemmer(\"Vorgeben\") "
   ]
  },
  {
   "cell_type": "code",
   "execution_count": 32,
   "metadata": {},
   "outputs": [
    {
     "name": "stdout",
     "output_type": "stream",
     "text": [
      "The string is\t: Amüsement\n",
      "Snowball stemmer\t: amusement\n",
      "German stemmer\t: amusement\n",
      "Cistem stemmer\t: ('amüsement', '')\n",
      "Lancaster stemmer\t: amüs\n",
      "Porter stemmer\t: amüsement\n"
     ]
    }
   ],
   "source": [
    "# English : Amusement\n",
    "German_Stemmer(\"Amüsement\") "
   ]
  },
  {
   "cell_type": "code",
   "execution_count": 33,
   "metadata": {},
   "outputs": [
    {
     "name": "stdout",
     "output_type": "stream",
     "text": [
      "The string is\t: ÜBERSETZEN\n",
      "Snowball stemmer\t: ubersetz\n",
      "German stemmer\t: ubersetz\n",
      "Cistem stemmer\t: ('übersetz', 'en')\n",
      "Lancaster stemmer\t: übersetz\n",
      "Porter stemmer\t: übersetzen\n"
     ]
    }
   ],
   "source": [
    "# English : Translate\n",
    "German_Stemmer(\"ÜBERSETZEN\") "
   ]
  },
  {
   "cell_type": "code",
   "execution_count": 34,
   "metadata": {},
   "outputs": [
    {
     "name": "stdout",
     "output_type": "stream",
     "text": [
      "The string is\t: Sonnenaufgang\n",
      "Snowball stemmer\t: sonnenaufgang\n",
      "German stemmer\t: sonnenaufgang\n",
      "Cistem stemmer\t: ('sonnenaufgang', '')\n",
      "Lancaster stemmer\t: sonnenaufgang\n",
      "Porter stemmer\t: sonnenaufgang\n"
     ]
    }
   ],
   "source": [
    "# English : Sunrise\n",
    "German_Stemmer(\"Sonnenaufgang\") "
   ]
  },
  {
   "cell_type": "code",
   "execution_count": 29,
   "metadata": {},
   "outputs": [
    {
     "name": "stdout",
     "output_type": "stream",
     "text": [
      "The string is\t: Hallo Welt Ich bin ein Engel\n",
      "Snowball stemmer\t: hallo welt ich bin ein engel\n",
      "German stemmer\t: hallo welt ich bin ein engel\n",
      "Cistem stemmer\t: ('hallo welt ich bin ein engel', '')\n",
      "Lancaster stemmer\t: hallo welt ich bin ein engel\n",
      "Porter stemmer\t: hallo welt ich bin ein engel\n"
     ]
    }
   ],
   "source": [
    "# English : Hello World. I am Angel.\n",
    "German_Stemmer(\"Hallo Welt Ich bin ein Engel\")"
   ]
  },
  {
   "cell_type": "markdown",
   "metadata": {},
   "source": [
    "## <B><U><CENTER> REFERENCE </CENTER></U></B>\n",
    "#### <b> \n",
    "    1. The snowball,german,lancester are stemming same for the <i>vorgeben</i> where as Cistem is stemming both the prefix and root word. \n",
    "    2. The snowball,german,cistem,porter stemmer didn't work out good for <i>Amusement</i>. Where as, Lancaster performed well.\n",
    "    3. The porter stemmer is not performing well for <i>ÜBERSETZEN</i>. Where as, the other stemmers are stemming and replacing it with photenics.\n",
    "    4. The one syllabi word is performing well with stemmer. <i>Eg-Sonnenaufgang</i>\n",
    "    5. The sentence stemming is same for all the 5 stemmers."
   ]
  }
 ],
 "metadata": {
  "kernelspec": {
   "display_name": "Python 3",
   "language": "python",
   "name": "python3"
  },
  "language_info": {
   "codemirror_mode": {
    "name": "ipython",
    "version": 3
   },
   "file_extension": ".py",
   "mimetype": "text/x-python",
   "name": "python",
   "nbconvert_exporter": "python",
   "pygments_lexer": "ipython3",
   "version": "3.8.5"
  }
 },
 "nbformat": 4,
 "nbformat_minor": 4
}
