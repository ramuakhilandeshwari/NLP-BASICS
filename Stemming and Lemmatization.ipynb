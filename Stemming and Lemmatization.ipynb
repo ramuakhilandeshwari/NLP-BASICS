{
 "cells": [
  {
   "cell_type": "markdown",
   "metadata": {
    "id": "SeaZ0IeBlTjW"
   },
   "source": [
    "<CENTER> <H1>Write a program to differentiate stemming and lemmatizing words </H1></CENTER>"
   ]
  },
  {
   "cell_type": "markdown",
   "metadata": {
    "id": "_U3Bcr4o82WR"
   },
   "source": [
    "# Importing packages"
   ]
  },
  {
   "cell_type": "code",
   "execution_count": null,
   "metadata": {
    "id": "ku4GSOTDlRRs"
   },
   "outputs": [],
   "source": [
    "import nltk \n",
    "from nltk.stem import WordNetLemmatizer\n",
    "from nltk.stem.snowball import SnowballStemmer\n",
    "from nltk.stem import LancasterStemmer\n",
    "from nltk.stem import PorterStemmer \n",
    "nltk.download('all') "
   ]
  },
  {
   "cell_type": "markdown",
   "metadata": {
    "id": "W-We9-LixsJJ"
   },
   "source": [
    "# LEMMATIZATION"
   ]
  },
  {
   "cell_type": "code",
   "execution_count": 8,
   "metadata": {
    "colab": {
     "base_uri": "https://localhost:8080/"
    },
    "executionInfo": {
     "elapsed": 678,
     "status": "ok",
     "timestamp": 1634921732837,
     "user": {
      "displayName": "R AKHILANDESHWARI 2048046",
      "photoUrl": "https://lh3.googleusercontent.com/a-/AOh14GiIkCurCgc78Nn4rfHenbXpNzRwE23THtku9QZFlQ=s64",
      "userId": "00252764270953512856"
     },
     "user_tz": -330
    },
    "id": "VRbD58XtdIWv",
    "outputId": "2b583843-6d5e-43d4-fab0-9aea09d87dba"
   },
   "outputs": [
    {
     "name": "stdout",
     "output_type": "stream",
     "text": [
      "Relovutionary ---> Relovutionary\n",
      "Revolution ---> Revolution\n",
      "Revolve ---> Revolve\n",
      "****************************** AFTER CONVERTING TO LOWERCASE ******************************\n",
      "relovutionary ---> relovutionary\n",
      "revolution ---> revolution\n",
      "revolve ---> revolve\n"
     ]
    }
   ],
   "source": [
    "# Create WordNetLemmatizer object\n",
    "wnl = WordNetLemmatizer()\n",
    " \n",
    "# single word lemmatization examples\n",
    "list1 = ['Relovutionary','Revolution','Revolve']\n",
    "for words in list1:\n",
    "    print(words + \" ---> \" + wnl.lemmatize(words))\n",
    "\n",
    "print('*'*30,'AFTER CONVERTING TO LOWERCASE','*'*30)\n",
    "\n",
    "# single word lemmatization examples\n",
    "list1 = ['relovutionary','revolution','revolve']\n",
    "for words in list1:\n",
    "    print(words + \" ---> \" + wnl.lemmatize(words))\n"
   ]
  },
  {
   "cell_type": "markdown",
   "metadata": {
    "id": "bFV_bfSPyIQX"
   },
   "source": [
    "# STEMMING"
   ]
  },
  {
   "cell_type": "code",
   "execution_count": 5,
   "metadata": {
    "executionInfo": {
     "elapsed": 493,
     "status": "ok",
     "timestamp": 1634921603976,
     "user": {
      "displayName": "R AKHILANDESHWARI 2048046",
      "photoUrl": "https://lh3.googleusercontent.com/a-/AOh14GiIkCurCgc78Nn4rfHenbXpNzRwE23THtku9QZFlQ=s64",
      "userId": "00252764270953512856"
     },
     "user_tz": -330
    },
    "id": "UyLEehho6Y4U"
   },
   "outputs": [],
   "source": [
    "# Defining the function that will take the String/word as the input and gives us the german stemmer\n",
    "def SLP_Stemmer(word):\n",
    "    print (\"The string is\\t:\",word)\n",
    "    # Snow Ball Stemmer\n",
    "    stemmer_1 = SnowballStemmer(language=\"english\")\n",
    "    print('Snowball stemmer\\t:',stemmer_1.stem(word))\n",
    "    \n",
    "    # Lancaster Stemmer\n",
    "    lancaster=LancasterStemmer()\n",
    "    print(\"Lancaster stemmer\\t:\",lancaster.stem(word))\n",
    "    \n",
    "    # Porter Stemmer\n",
    "    porter = PorterStemmer()\n",
    "    print(\"Porter stemmer\\t:\",porter.stem(word))"
   ]
  },
  {
   "cell_type": "code",
   "execution_count": 6,
   "metadata": {
    "colab": {
     "base_uri": "https://localhost:8080/"
    },
    "executionInfo": {
     "elapsed": 475,
     "status": "ok",
     "timestamp": 1634921607380,
     "user": {
      "displayName": "R AKHILANDESHWARI 2048046",
      "photoUrl": "https://lh3.googleusercontent.com/a-/AOh14GiIkCurCgc78Nn4rfHenbXpNzRwE23THtku9QZFlQ=s64",
      "userId": "00252764270953512856"
     },
     "user_tz": -330
    },
    "id": "rc0eY-XK6ZLy",
    "outputId": "12076b55-1af9-4912-8d63-0a79e5be9600"
   },
   "outputs": [
    {
     "name": "stdout",
     "output_type": "stream",
     "text": [
      "The string is\t: revolution\n",
      "Snowball stemmer\t: revolut\n",
      "Lancaster stemmer\t: revolv\n",
      "Porter stemmer\t: revolut\n"
     ]
    }
   ],
   "source": [
    "SLP_Stemmer(\"revolution\") "
   ]
  },
  {
   "cell_type": "markdown",
   "metadata": {
    "id": "kBkycOU67zYe"
   },
   "source": [
    "# Inference"
   ]
  },
  {
   "cell_type": "markdown",
   "metadata": {
    "id": "G7RbCUrC72nY"
   },
   "source": [
    "1. Lemmatization technique is like stemming. The output we will get after lemmatization is called ‘lemma’, which is a root word rather than root stem, the output of stemming. After lemmatization, we will be getting a valid word that means the same thing.\n",
    "2. Stemming is a technique used to extract the base form of the words by removing affixes from them.\n",
    "3. To exctly get the root word, its better to go with the stemmer compare to the lemmatization.\n",
    "4. Different stemmers works differently, but the fucntionality follows the phonetic sounds while stemming.\n",
    "5. The lemmatization is broad view of the stemming. "
   ]
  }
 ],
 "metadata": {
  "colab": {
   "authorship_tag": "ABX9TyMgvA4jqleNz5le2lyParNK",
   "collapsed_sections": [
    "_U3Bcr4o82WR",
    "W-We9-LixsJJ",
    "bFV_bfSPyIQX",
    "kBkycOU67zYe"
   ],
   "name": "PROGRAM8_2048046.ipynb",
   "provenance": []
  },
  "kernelspec": {
   "display_name": "Python 3",
   "language": "python",
   "name": "python3"
  },
  "language_info": {
   "codemirror_mode": {
    "name": "ipython",
    "version": 3
   },
   "file_extension": ".py",
   "mimetype": "text/x-python",
   "name": "python",
   "nbconvert_exporter": "python",
   "pygments_lexer": "ipython3",
   "version": "3.8.5"
  }
 },
 "nbformat": 4,
 "nbformat_minor": 1
}
