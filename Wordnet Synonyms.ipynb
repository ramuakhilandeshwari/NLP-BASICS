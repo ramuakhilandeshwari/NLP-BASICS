{
 "cells": [
  {
   "cell_type": "markdown",
   "metadata": {
    "id": "1jn4N5_XxOgw"
   },
   "source": [
    "\n",
    "<CENTER> <B> <U> Synonyms from WordNet </CENTER> </B> </U>"
   ]
  },
  {
   "cell_type": "markdown",
   "metadata": {
    "id": "uKio4y0HyIVA"
   },
   "source": [
    "WordNet is a large lexical database of English. Nouns, verbs, adjectives and adverbs are grouped into sets of cognitive synonyms (synsets), each expressing a distinct concept. Synsets are interlinked by means of conceptual-semantic and lexical relations.\n",
    "WordNet’s structure makes it a useful tool for computational linguistics and natural language processing."
   ]
  },
  {
   "cell_type": "code",
   "execution_count": null,
   "metadata": {
    "id": "lPL5IElgy1Yy"
   },
   "outputs": [],
   "source": [
    "import nltk\n",
    "nltk.download('all')"
   ]
  },
  {
   "cell_type": "code",
   "execution_count": null,
   "metadata": {
    "colab": {
     "base_uri": "https://localhost:8080/"
    },
    "executionInfo": {
     "elapsed": 381,
     "status": "ok",
     "timestamp": 1630072002291,
     "user": {
      "displayName": "R AKHILANDESHWARI 2048046",
      "photoUrl": "https://lh3.googleusercontent.com/a-/AOh14GiIkCurCgc78Nn4rfHenbXpNzRwE23THtku9QZFlQ=s64",
      "userId": "00252764270953512856"
     },
     "user_tz": -330
    },
    "id": "MaQmTv183MXF",
    "outputId": "5b17c988-7bb9-4c25-fe7e-a3d0f72f6632"
   },
   "outputs": [
    {
     "data": {
      "text/plain": [
       "[Synset('small.n.01'),\n",
       " Synset('small.n.02'),\n",
       " Synset('small.a.01'),\n",
       " Synset('minor.s.10'),\n",
       " Synset('little.s.03'),\n",
       " Synset('small.s.04'),\n",
       " Synset('humble.s.01'),\n",
       " Synset('little.s.07'),\n",
       " Synset('little.s.05'),\n",
       " Synset('small.s.08'),\n",
       " Synset('modest.s.02'),\n",
       " Synset('belittled.s.01'),\n",
       " Synset('small.r.01')]"
      ]
     },
     "execution_count": 30,
     "metadata": {},
     "output_type": "execute_result"
    }
   ],
   "source": [
    "from nltk.corpus import wordnet as wn\n",
    "wn.synsets('small')"
   ]
  },
  {
   "cell_type": "code",
   "execution_count": 3,
   "metadata": {
    "colab": {
     "base_uri": "https://localhost:8080/"
    },
    "executionInfo": {
     "elapsed": 1919,
     "status": "ok",
     "timestamp": 1630070939188,
     "user": {
      "displayName": "R AKHILANDESHWARI 2048046",
      "photoUrl": "https://lh3.googleusercontent.com/a-/AOh14GiIkCurCgc78Nn4rfHenbXpNzRwE23THtku9QZFlQ=s64",
      "userId": "00252764270953512856"
     },
     "user_tz": -330
    },
    "id": "lBO59z5WxGXw",
    "outputId": "59be9476-cfa2-4d71-9403-eddd1b59c5f3"
   },
   "outputs": [
    {
     "data": {
      "text/plain": [
       "[Synset('walker.n.01'),\n",
       " Synset('walker.n.02'),\n",
       " Synset('pedestrian.n.01'),\n",
       " Synset('walker.n.04'),\n",
       " Synset('walker.n.05'),\n",
       " Synset('walker.n.06')]"
      ]
     },
     "execution_count": 3,
     "metadata": {},
     "output_type": "execute_result"
    }
   ],
   "source": [
    "word = 'walker'\n",
    "\n",
    "# get synsets\n",
    "word_synsets = wn.synsets(word)\n",
    "word_synsets"
   ]
  },
  {
   "cell_type": "code",
   "execution_count": 8,
   "metadata": {
    "colab": {
     "base_uri": "https://localhost:8080/"
    },
    "executionInfo": {
     "elapsed": 381,
     "status": "ok",
     "timestamp": 1630071052169,
     "user": {
      "displayName": "R AKHILANDESHWARI 2048046",
      "photoUrl": "https://lh3.googleusercontent.com/a-/AOh14GiIkCurCgc78Nn4rfHenbXpNzRwE23THtku9QZFlQ=s64",
      "userId": "00252764270953512856"
     },
     "user_tz": -330
    },
    "id": "A3G9paPxyyk9",
    "outputId": "e142526f-71e7-44ac-a070-0d3936a2eeaa"
   },
   "outputs": [
    {
     "name": "stdout",
     "output_type": "stream",
     "text": [
      "Syset ID: walker.n.01 \n",
      "POS Tag: n \n",
      "Definition: New Zealand runner who in 1975 became the first person to run a mile in less that 3 minutes and 50 seconds (born in 1952) \n",
      "Examples: [] \n",
      "\n",
      "Syset ID: walker.n.02 \n",
      "POS Tag: n \n",
      "Definition: United States writer (born in 1944) \n",
      "Examples: [] \n",
      "\n",
      "Syset ID: walker.n.04 \n",
      "POS Tag: n \n",
      "Definition: a shoe designed for comfortable walking \n",
      "Examples: [] \n",
      "\n",
      "Syset ID: walker.n.05 \n",
      "POS Tag: n \n",
      "Definition: a light enclosing framework (trade name Zimmer) with rubber castors or wheels and handles; helps invalids or the handicapped or the aged to walk \n",
      "Examples: [] \n",
      "\n",
      "Syset ID: walker.n.06 \n",
      "POS Tag: n \n",
      "Definition: an enclosing framework on casters or wheels; helps babies learn to walk \n",
      "Examples: [] \n",
      "\n"
     ]
    }
   ],
   "source": [
    "## Get details of each synset\n",
    "for s in word_synsets:\n",
    "    if str(s.name()).startswith('walker'):\n",
    "        print(\n",
    "            'Syset ID: %s \\n'\n",
    "            'POS Tag: %s \\n'\n",
    "            'Definition: %s \\n'\n",
    "            'Examples: %s \\n' % (s.name(), s.pos(), s.definition(),s.examples())\n",
    "            )"
   ]
  },
  {
   "cell_type": "code",
   "execution_count": 10,
   "metadata": {
    "colab": {
     "base_uri": "https://localhost:8080/"
    },
    "executionInfo": {
     "elapsed": 410,
     "status": "ok",
     "timestamp": 1630071222677,
     "user": {
      "displayName": "R AKHILANDESHWARI 2048046",
      "photoUrl": "https://lh3.googleusercontent.com/a-/AOh14GiIkCurCgc78Nn4rfHenbXpNzRwE23THtku9QZFlQ=s64",
      "userId": "00252764270953512856"
     },
     "user_tz": -330
    },
    "id": "k5edj4h70C7N",
    "outputId": "d484aac2-7558-4d7e-8c12-04d23489617c"
   },
   "outputs": [
    {
     "name": "stdout",
     "output_type": "stream",
     "text": [
      "plan.n.01\n",
      "plan\n",
      "a series of steps to be carried out or goals to be accomplished\n",
      "['they drew up a six-step plan', 'they discussed plans for a new bond issue']\n"
     ]
    }
   ],
   "source": [
    "# We can even extract only the lemma word, it's definition and examples also.\n",
    "syns = wn.synsets(\"program\")\n",
    "  \n",
    "# An example of a synset:\n",
    "print(syns[0].name())\n",
    "  \n",
    "# Just the word:\n",
    "print(syns[0].lemmas()[0].name())\n",
    "  \n",
    "# Definition of that first synset:\n",
    "print(syns[0].definition())\n",
    "  \n",
    "# Examples of the word in use in sentences:\n",
    "print(syns[0].examples())"
   ]
  },
  {
   "cell_type": "code",
   "execution_count": 29,
   "metadata": {
    "colab": {
     "base_uri": "https://localhost:8080/"
    },
    "executionInfo": {
     "elapsed": 377,
     "status": "ok",
     "timestamp": 1630071963922,
     "user": {
      "displayName": "R AKHILANDESHWARI 2048046",
      "photoUrl": "https://lh3.googleusercontent.com/a-/AOh14GiIkCurCgc78Nn4rfHenbXpNzRwE23THtku9QZFlQ=s64",
      "userId": "00252764270953512856"
     },
     "user_tz": -330
    },
    "id": "1fgSRx-c0Y25",
    "outputId": "05d590a0-528c-4e0c-d726-458e9a306923"
   },
   "outputs": [
    {
     "name": "stdout",
     "output_type": "stream",
     "text": [
      "{'just', 'adept', 'practiced', 'expert', 'effective', 'secure', 'trade_good', 'ripe', 'unspoilt', 'dear', 'soundly', 'respectable', 'honorable', 'well', 'estimable', 'near', 'safe', 'honest', 'upright', 'good', 'in_effect', 'thoroughly', 'unspoiled', 'goodness', 'commodity', 'serious', 'sound', 'right', 'in_force', 'skillful', 'dependable', 'undecomposed', 'salutary', 'beneficial', 'full', 'skilful', 'proficient'}\n"
     ]
    }
   ],
   "source": [
    "# We can even extract the set of the synonmyns of a particular word from the wordnet\n",
    "synonyms = []\n",
    "  \n",
    "for syn in wn.synsets(\"good\"):\n",
    "    for l in syn.lemmas():\n",
    "        synonyms.append(l.name())\n",
    "        \n",
    "print(set(synonyms))"
   ]
  },
  {
   "cell_type": "code",
   "execution_count": 13,
   "metadata": {
    "colab": {
     "base_uri": "https://localhost:8080/"
    },
    "executionInfo": {
     "elapsed": 376,
     "status": "ok",
     "timestamp": 1630071516078,
     "user": {
      "displayName": "R AKHILANDESHWARI 2048046",
      "photoUrl": "https://lh3.googleusercontent.com/a-/AOh14GiIkCurCgc78Nn4rfHenbXpNzRwE23THtku9QZFlQ=s64",
      "userId": "00252764270953512856"
     },
     "user_tz": -330
    },
    "id": "mVzff9rv1J_x",
    "outputId": "325e84ea-1dee-47be-c1ab-74a2911d354b"
   },
   "outputs": [
    {
     "name": "stdout",
     "output_type": "stream",
     "text": [
      "0.8571428571428571\n"
     ]
    }
   ],
   "source": [
    "# We can even check the similarity index of 2 different words\n",
    "# wup = Wu-Palmer Similarity: Return a score denoting how similar two word senses are, \n",
    "#       based on the depth of the two senses in the taxonomy and that of their Least Common Subsumer (most specific ancestor node)\n",
    "w1 = wn.synset('run.v.01') # v here denotes the tag verb\n",
    "w2 = wn.synset('sprint.v.01')\n",
    "print(w1.wup_similarity(w2))"
   ]
  },
  {
   "cell_type": "code",
   "execution_count": 34,
   "metadata": {
    "colab": {
     "base_uri": "https://localhost:8080/"
    },
    "executionInfo": {
     "elapsed": 466,
     "status": "ok",
     "timestamp": 1630072067746,
     "user": {
      "displayName": "R AKHILANDESHWARI 2048046",
      "photoUrl": "https://lh3.googleusercontent.com/a-/AOh14GiIkCurCgc78Nn4rfHenbXpNzRwE23THtku9QZFlQ=s64",
      "userId": "00252764270953512856"
     },
     "user_tz": -330
    },
    "id": "T3CyRd0E1grK",
    "outputId": "5760d6a2-b6eb-4d1c-af60-44dc46ef6fe9"
   },
   "outputs": [
    {
     "name": "stdout",
     "output_type": "stream",
     "text": [
      "Meaning 0 NLTK ID: <bound method Synset.name of Synset('dog.n.01')>\n",
      "Definition: <bound method Synset.definition of Synset('dog.n.01')>\n",
      "Meaning 1 NLTK ID: <bound method Synset.name of Synset('frump.n.01')>\n",
      "Definition: <bound method Synset.definition of Synset('frump.n.01')>\n",
      "Meaning 2 NLTK ID: <bound method Synset.name of Synset('dog.n.03')>\n",
      "Definition: <bound method Synset.definition of Synset('dog.n.03')>\n",
      "Meaning 3 NLTK ID: <bound method Synset.name of Synset('cad.n.01')>\n",
      "Definition: <bound method Synset.definition of Synset('cad.n.01')>\n",
      "Meaning 4 NLTK ID: <bound method Synset.name of Synset('frank.n.02')>\n",
      "Definition: <bound method Synset.definition of Synset('frank.n.02')>\n",
      "Meaning 5 NLTK ID: <bound method Synset.name of Synset('pawl.n.01')>\n",
      "Definition: <bound method Synset.definition of Synset('pawl.n.01')>\n",
      "Meaning 6 NLTK ID: <bound method Synset.name of Synset('andiron.n.01')>\n",
      "Definition: <bound method Synset.definition of Synset('andiron.n.01')>\n",
      "Meaning 7 NLTK ID: <bound method Synset.name of Synset('chase.v.01')>\n",
      "Definition: <bound method Synset.definition of Synset('chase.v.01')>\n"
     ]
    }
   ],
   "source": [
    "# Displaying the word with its meaning\n",
    "for i,j in enumerate(wn.synsets('dog')):\n",
    "  print(\"Meaning\",i, \"NLTK ID:\", j.name)\n",
    "  print(\"Definition:\",j.definition)"
   ]
  },
  {
   "cell_type": "markdown",
   "metadata": {
    "id": "hNyl9ZRn7V4n"
   },
   "source": [
    "1. synonym (words having the same meaning)\n",
    "2. hypernyms (The generic term used to designate a class of specifics (i.e., meal is a breakfast), hyponyms (rice is a meal)\n",
    "3. holonyms (proteins, carbohydrates are part of meal)\n",
    "4. meronyms (meal is part of daily food intake)\n",
    "\n",
    "\n",
    "Synsets are organized in an inheritance tree like structure in which Hypernyms represents more abstracted terms while Hyponyms represents the more specific terms."
   ]
  },
  {
   "cell_type": "code",
   "execution_count": 41,
   "metadata": {
    "colab": {
     "base_uri": "https://localhost:8080/"
    },
    "executionInfo": {
     "elapsed": 461,
     "status": "ok",
     "timestamp": 1630073123749,
     "user": {
      "displayName": "R AKHILANDESHWARI 2048046",
      "photoUrl": "https://lh3.googleusercontent.com/a-/AOh14GiIkCurCgc78Nn4rfHenbXpNzRwE23THtku9QZFlQ=s64",
      "userId": "00252764270953512856"
     },
     "user_tz": -330
    },
    "id": "bkhR1snd5eiI",
    "outputId": "2fc4c019-f40b-4cf2-8cf9-75262bf03f8b"
   },
   "outputs": [
    {
     "data": {
      "text/plain": [
       "[Synset('canine.n.02'), Synset('domestic_animal.n.01')]"
      ]
     },
     "execution_count": 41,
     "metadata": {},
     "output_type": "execute_result"
    }
   ],
   "source": [
    "syn = wn.synsets('dog')[0]\n",
    "syn.hypernyms()"
   ]
  },
  {
   "cell_type": "code",
   "execution_count": 42,
   "metadata": {
    "colab": {
     "base_uri": "https://localhost:8080/"
    },
    "executionInfo": {
     "elapsed": 403,
     "status": "ok",
     "timestamp": 1630073148413,
     "user": {
      "displayName": "R AKHILANDESHWARI 2048046",
      "photoUrl": "https://lh3.googleusercontent.com/a-/AOh14GiIkCurCgc78Nn4rfHenbXpNzRwE23THtku9QZFlQ=s64",
      "userId": "00252764270953512856"
     },
     "user_tz": -330
    },
    "id": "B7iHftBO7kSf",
    "outputId": "22744580-fce1-48b0-de05-09304f08c9ef"
   },
   "outputs": [
    {
     "data": {
      "text/plain": [
       "[Synset('bitch.n.04'),\n",
       " Synset('dog.n.01'),\n",
       " Synset('fox.n.01'),\n",
       " Synset('hyena.n.01'),\n",
       " Synset('jackal.n.01'),\n",
       " Synset('wild_dog.n.01'),\n",
       " Synset('wolf.n.01')]"
      ]
     },
     "execution_count": 42,
     "metadata": {},
     "output_type": "execute_result"
    }
   ],
   "source": [
    "syn.hypernyms()[0].hyponyms()"
   ]
  },
  {
   "cell_type": "code",
   "execution_count": 43,
   "metadata": {
    "colab": {
     "base_uri": "https://localhost:8080/"
    },
    "executionInfo": {
     "elapsed": 386,
     "status": "ok",
     "timestamp": 1630073240872,
     "user": {
      "displayName": "R AKHILANDESHWARI 2048046",
      "photoUrl": "https://lh3.googleusercontent.com/a-/AOh14GiIkCurCgc78Nn4rfHenbXpNzRwE23THtku9QZFlQ=s64",
      "userId": "00252764270953512856"
     },
     "user_tz": -330
    },
    "id": "LdaQbl3j77Dn",
    "outputId": "157dd3e8-ede8-4ac2-8c60-f921495a654d"
   },
   "outputs": [
    {
     "data": {
      "text/plain": [
       "[Synset('entity.n.01')]"
      ]
     },
     "execution_count": 43,
     "metadata": {},
     "output_type": "execute_result"
    }
   ],
   "source": [
    "syn.root_hypernyms()"
   ]
  },
  {
   "cell_type": "code",
   "execution_count": 54,
   "metadata": {
    "executionInfo": {
     "elapsed": 384,
     "status": "ok",
     "timestamp": 1630073481769,
     "user": {
      "displayName": "R AKHILANDESHWARI 2048046",
      "photoUrl": "https://lh3.googleusercontent.com/a-/AOh14GiIkCurCgc78Nn4rfHenbXpNzRwE23THtku9QZFlQ=s64",
      "userId": "00252764270953512856"
     },
     "user_tz": -330
    },
    "id": "LB-FUWih8sjQ"
   },
   "outputs": [],
   "source": [
    "syn = wn.synsets('wolf')[1]"
   ]
  },
  {
   "cell_type": "code",
   "execution_count": 58,
   "metadata": {
    "colab": {
     "base_uri": "https://localhost:8080/"
    },
    "executionInfo": {
     "elapsed": 392,
     "status": "ok",
     "timestamp": 1630073525010,
     "user": {
      "displayName": "R AKHILANDESHWARI 2048046",
      "photoUrl": "https://lh3.googleusercontent.com/a-/AOh14GiIkCurCgc78Nn4rfHenbXpNzRwE23THtku9QZFlQ=s64",
      "userId": "00252764270953512856"
     },
     "user_tz": -330
    },
    "id": "S0U-o8Sn8PZt",
    "outputId": "34cf538f-f34e-49f7-def7-bd9a6df0165d"
   },
   "outputs": [
    {
     "data": {
      "text/plain": [
       "<bound method _WordNetObject.member_holonyms of Synset('wolf.n.02')>"
      ]
     },
     "execution_count": 58,
     "metadata": {},
     "output_type": "execute_result"
    }
   ],
   "source": [
    "syn.member_holonyms"
   ]
  },
  {
   "cell_type": "code",
   "execution_count": 56,
   "metadata": {
    "colab": {
     "base_uri": "https://localhost:8080/"
    },
    "executionInfo": {
     "elapsed": 412,
     "status": "ok",
     "timestamp": 1630073488480,
     "user": {
      "displayName": "R AKHILANDESHWARI 2048046",
      "photoUrl": "https://lh3.googleusercontent.com/a-/AOh14GiIkCurCgc78Nn4rfHenbXpNzRwE23THtku9QZFlQ=s64",
      "userId": "00252764270953512856"
     },
     "user_tz": -330
    },
    "id": "OtJokm_R8lln",
    "outputId": "4ee6b929-fb7a-478a-a7ab-c74e5ca43665"
   },
   "outputs": [
    {
     "data": {
      "text/plain": [
       "<bound method _WordNetObject.member_meronyms of Synset('wolf.n.02')>"
      ]
     },
     "execution_count": 56,
     "metadata": {},
     "output_type": "execute_result"
    }
   ],
   "source": [
    "syn.member_meronyms"
   ]
  },
  {
   "cell_type": "markdown",
   "metadata": {
    "id": "cxaEiLv--WvW"
   },
   "source": [
    "<h3>  The WordNet corpus reader gives access to the Open Multilingual WordNet. </h3>"
   ]
  },
  {
   "cell_type": "code",
   "execution_count": 61,
   "metadata": {
    "colab": {
     "base_uri": "https://localhost:8080/"
    },
    "executionInfo": {
     "elapsed": 370,
     "status": "ok",
     "timestamp": 1630073830703,
     "user": {
      "displayName": "R AKHILANDESHWARI 2048046",
      "photoUrl": "https://lh3.googleusercontent.com/a-/AOh14GiIkCurCgc78Nn4rfHenbXpNzRwE23THtku9QZFlQ=s64",
      "userId": "00252764270953512856"
     },
     "user_tz": -330
    },
    "id": "iGu719jg99Mv",
    "outputId": "1d72088f-c222-4d8e-a14c-ff2014ba750f"
   },
   "outputs": [
    {
     "data": {
      "text/plain": [
       "['als',\n",
       " 'arb',\n",
       " 'bul',\n",
       " 'cat',\n",
       " 'cmn',\n",
       " 'dan',\n",
       " 'ell',\n",
       " 'eng',\n",
       " 'eus',\n",
       " 'fas',\n",
       " 'fin',\n",
       " 'fra',\n",
       " 'glg',\n",
       " 'heb',\n",
       " 'hrv',\n",
       " 'ind',\n",
       " 'ita',\n",
       " 'jpn',\n",
       " 'nld',\n",
       " 'nno',\n",
       " 'nob',\n",
       " 'pol',\n",
       " 'por',\n",
       " 'qcn',\n",
       " 'slv',\n",
       " 'spa',\n",
       " 'swe',\n",
       " 'tha',\n",
       " 'zsm']"
      ]
     },
     "execution_count": 61,
     "metadata": {},
     "output_type": "execute_result"
    }
   ],
   "source": [
    "# We have words from different languages in wordnet\n",
    "sorted(wn.langs())"
   ]
  },
  {
   "cell_type": "code",
   "execution_count": 62,
   "metadata": {
    "colab": {
     "base_uri": "https://localhost:8080/"
    },
    "executionInfo": {
     "elapsed": 554,
     "status": "ok",
     "timestamp": 1630073918770,
     "user": {
      "displayName": "R AKHILANDESHWARI 2048046",
      "photoUrl": "https://lh3.googleusercontent.com/a-/AOh14GiIkCurCgc78Nn4rfHenbXpNzRwE23THtku9QZFlQ=s64",
      "userId": "00252764270953512856"
     },
     "user_tz": -330
    },
    "id": "Q2lpfCn6-Pa0",
    "outputId": "9034402f-3cc7-4d06-9d8c-b847247c1ba7"
   },
   "outputs": [
    {
     "data": {
      "text/plain": [
       "['espião']"
      ]
     },
     "execution_count": 62,
     "metadata": {},
     "output_type": "execute_result"
    }
   ],
   "source": [
    "wn.synset('spy.n.01').lemma_names('por') # por stands for portuguese"
   ]
  },
  {
   "cell_type": "markdown",
   "metadata": {
    "id": "kl5hOTvczKu8"
   },
   "source": [
    "<h3> References - </h3>\n",
    "\n",
    "https://www.geeksforgeeks.org/get-synonymsantonyms-nltk-wordnet-python/\n",
    "\n",
    "\n",
    "https://stackoverflow.com/questions/19348973/all-synonyms-for-word-in-python#:~:text=The%20code%20to%20get%20the%20synonyms%20of%20a,can%27t%20know%20how%20many%20words%20there%20may%20be.\n",
    "\n",
    "https://www.tutorialspoint.com/natural_language_toolkit/natural_language_toolkit_looking_up_words_in_wordnet.html\n",
    "\n",
    "https://www.guru99.com/wordnet-nltk.html\n",
    "\n",
    "\n",
    "\n",
    "\n",
    "\n",
    "\n"
   ]
  }
 ],
 "metadata": {
  "colab": {
   "authorship_tag": "ABX9TyOuBBu0Joy/eAmRCfFUv4DD",
   "name": "PROGRAM4_2048046.ipynb",
   "provenance": []
  },
  "kernelspec": {
   "display_name": "Python 3",
   "language": "python",
   "name": "python3"
  },
  "language_info": {
   "codemirror_mode": {
    "name": "ipython",
    "version": 3
   },
   "file_extension": ".py",
   "mimetype": "text/x-python",
   "name": "python",
   "nbconvert_exporter": "python",
   "pygments_lexer": "ipython3",
   "version": "3.8.5"
  }
 },
 "nbformat": 4,
 "nbformat_minor": 1
}
