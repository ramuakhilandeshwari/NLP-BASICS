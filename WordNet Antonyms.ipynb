{
 "cells": [
  {
   "cell_type": "markdown",
   "metadata": {
    "id": "Hhq8uB34WfZ8"
   },
   "source": [
    "<CENTER> <B> <U> ANTONYMS </CENTER> </B> </U>"
   ]
  },
  {
   "cell_type": "markdown",
   "metadata": {
    "id": "pzLFtJo8W-CV"
   },
   "source": [
    "WordNet is a large lexical database of English. Nouns, verbs, adjectives and adverbs are grouped into sets of cognitive synonyms (synsets), each expressing a distinct concept. Synsets are interlinked by means of conceptual-semantic and lexical relations. WordNet’s structure makes it a useful tool for computational linguistics and natural language processing."
   ]
  },
  {
   "cell_type": "code",
   "execution_count": null,
   "metadata": {
    "id": "omOb6dLwWahE"
   },
   "outputs": [],
   "source": [
    "import nltk\n",
    "nltk.download('all')"
   ]
  },
  {
   "cell_type": "code",
   "execution_count": 2,
   "metadata": {
    "colab": {
     "base_uri": "https://localhost:8080/"
    },
    "executionInfo": {
     "elapsed": 1957,
     "status": "ok",
     "timestamp": 1631170957426,
     "user": {
      "displayName": "R AKHILANDESHWARI 2048046",
      "photoUrl": "https://lh3.googleusercontent.com/a-/AOh14GiIkCurCgc78Nn4rfHenbXpNzRwE23THtku9QZFlQ=s64",
      "userId": "00252764270953512856"
     },
     "user_tz": -330
    },
    "id": "SCzrOGLMXX6n",
    "outputId": "b00ae22f-564e-4b8e-b175-2829b486d083"
   },
   "outputs": [
    {
     "data": {
      "text/plain": [
       "[Synset('small.n.01'),\n",
       " Synset('small.n.02'),\n",
       " Synset('small.a.01'),\n",
       " Synset('minor.s.10'),\n",
       " Synset('little.s.03'),\n",
       " Synset('small.s.04'),\n",
       " Synset('humble.s.01'),\n",
       " Synset('little.s.07'),\n",
       " Synset('little.s.05'),\n",
       " Synset('small.s.08'),\n",
       " Synset('modest.s.02'),\n",
       " Synset('belittled.s.01'),\n",
       " Synset('small.r.01')]"
      ]
     },
     "execution_count": 2,
     "metadata": {},
     "output_type": "execute_result"
    }
   ],
   "source": [
    "from nltk.corpus import wordnet as wn\n",
    "wn.synsets('small')"
   ]
  },
  {
   "cell_type": "code",
   "execution_count": 3,
   "metadata": {
    "colab": {
     "base_uri": "https://localhost:8080/"
    },
    "executionInfo": {
     "elapsed": 350,
     "status": "ok",
     "timestamp": 1631170971649,
     "user": {
      "displayName": "R AKHILANDESHWARI 2048046",
      "photoUrl": "https://lh3.googleusercontent.com/a-/AOh14GiIkCurCgc78Nn4rfHenbXpNzRwE23THtku9QZFlQ=s64",
      "userId": "00252764270953512856"
     },
     "user_tz": -330
    },
    "id": "uE6H4irDXbiB",
    "outputId": "d54152b3-c1f2-43d7-f2bf-4adcee1d6090"
   },
   "outputs": [
    {
     "data": {
      "text/plain": [
       "[Synset('walker.n.01'),\n",
       " Synset('walker.n.02'),\n",
       " Synset('pedestrian.n.01'),\n",
       " Synset('walker.n.04'),\n",
       " Synset('walker.n.05'),\n",
       " Synset('walker.n.06')]"
      ]
     },
     "execution_count": 3,
     "metadata": {},
     "output_type": "execute_result"
    }
   ],
   "source": [
    "word = 'walker'\n",
    "\n",
    "# get synsets\n",
    "word_synsets = wn.synsets(word)\n",
    "word_synsets"
   ]
  },
  {
   "cell_type": "code",
   "execution_count": 7,
   "metadata": {
    "colab": {
     "base_uri": "https://localhost:8080/"
    },
    "executionInfo": {
     "elapsed": 361,
     "status": "ok",
     "timestamp": 1631171230879,
     "user": {
      "displayName": "R AKHILANDESHWARI 2048046",
      "photoUrl": "https://lh3.googleusercontent.com/a-/AOh14GiIkCurCgc78Nn4rfHenbXpNzRwE23THtku9QZFlQ=s64",
      "userId": "00252764270953512856"
     },
     "user_tz": -330
    },
    "id": "QsownSdVXlWv",
    "outputId": "ba604c8f-ab27-47bb-83c9-ccf0c5044e28"
   },
   "outputs": [
    {
     "name": "stdout",
     "output_type": "stream",
     "text": [
      "{'badness', 'ill', 'bad', 'evilness', 'evil'}\n"
     ]
    }
   ],
   "source": [
    "# We can even extract the set of the synonmyns of a particular word from the wordnet\n",
    "antonyms = []\n",
    "  \n",
    "for syn in wn.synsets(\"good\"):\n",
    "    for l in syn.lemmas():\n",
    "      if l.antonyms():\n",
    "        antonyms.append(l.antonyms()[0].name())\n",
    "        \n",
    "print(set(antonyms))"
   ]
  },
  {
   "cell_type": "markdown",
   "metadata": {
    "id": "0WNj4zfDYk3A"
   },
   "source": [
    "<h3> <b> Using Spacy </b> </h3>"
   ]
  },
  {
   "cell_type": "code",
   "execution_count": 8,
   "metadata": {
    "executionInfo": {
     "elapsed": 338,
     "status": "ok",
     "timestamp": 1631171301080,
     "user": {
      "displayName": "R AKHILANDESHWARI 2048046",
      "photoUrl": "https://lh3.googleusercontent.com/a-/AOh14GiIkCurCgc78Nn4rfHenbXpNzRwE23THtku9QZFlQ=s64",
      "userId": "00252764270953512856"
     },
     "user_tz": -330
    },
    "id": "zQT5CsDnYqxt"
   },
   "outputs": [],
   "source": [
    "import warnings\n",
    "warnings.filterwarnings('ignore')"
   ]
  },
  {
   "cell_type": "code",
   "execution_count": 9,
   "metadata": {
    "executionInfo": {
     "elapsed": 2112,
     "status": "ok",
     "timestamp": 1631171314375,
     "user": {
      "displayName": "R AKHILANDESHWARI 2048046",
      "photoUrl": "https://lh3.googleusercontent.com/a-/AOh14GiIkCurCgc78Nn4rfHenbXpNzRwE23THtku9QZFlQ=s64",
      "userId": "00252764270953512856"
     },
     "user_tz": -330
    },
    "id": "ZkL_HwUWYu4S"
   },
   "outputs": [],
   "source": [
    "import spacy\n",
    "nlp = spacy.load('en_core_web_sm') ## Loading small English dictionary"
   ]
  },
  {
   "cell_type": "code",
   "execution_count": 10,
   "metadata": {
    "colab": {
     "base_uri": "https://localhost:8080/"
    },
    "executionInfo": {
     "elapsed": 343,
     "status": "ok",
     "timestamp": 1631171394112,
     "user": {
      "displayName": "R AKHILANDESHWARI 2048046",
      "photoUrl": "https://lh3.googleusercontent.com/a-/AOh14GiIkCurCgc78Nn4rfHenbXpNzRwE23THtku9QZFlQ=s64",
      "userId": "00252764270953512856"
     },
     "user_tz": -330
    },
    "id": "ssfiyAOkZC8t",
    "outputId": "4bcdd0ec-4fdf-4d56-a438-fb583f825b37"
   },
   "outputs": [
    {
     "name": "stdout",
     "output_type": "stream",
     "text": [
      "good True 19.369116 True\n",
      "evil True 19.309095 True\n",
      "Similarity: 0.41225076\n"
     ]
    }
   ],
   "source": [
    "tokens = nlp('good evil')\n",
    " \n",
    "for token in tokens:\n",
    " print(token.text, token.has_vector, token.vector_norm, token.is_oov)\n",
    " # text: the word string\n",
    " # has_vector: if it contains a vector representation in the model\n",
    " # vector_norm: the algebraic norm of the vector\n",
    " # is_oov: if the word is out of vocabulary\n",
    " token1, token2 = tokens[0], tokens[1]\n",
    " \n",
    "print(\"Similarity:\", token1.similarity(token2))"
   ]
  },
  {
   "cell_type": "code",
   "execution_count": 11,
   "metadata": {
    "colab": {
     "base_uri": "https://localhost:8080/"
    },
    "executionInfo": {
     "elapsed": 335,
     "status": "ok",
     "timestamp": 1631171404062,
     "user": {
      "displayName": "R AKHILANDESHWARI 2048046",
      "photoUrl": "https://lh3.googleusercontent.com/a-/AOh14GiIkCurCgc78Nn4rfHenbXpNzRwE23THtku9QZFlQ=s64",
      "userId": "00252764270953512856"
     },
     "user_tz": -330
    },
    "id": "y90GNRMvZFWq",
    "outputId": "394182d0-d421-4e81-9e55-bb2ee88bcee6"
   },
   "outputs": [
    {
     "name": "stdout",
     "output_type": "stream",
     "text": [
      "weak True 20.483364 True\n",
      "strong True 19.372948 True\n",
      "Similarity: 0.48624274\n"
     ]
    }
   ],
   "source": [
    "tokens = nlp('weak strong')\n",
    " \n",
    "for token in tokens:\n",
    " print(token.text, token.has_vector, token.vector_norm, token.is_oov)\n",
    "token1, token2 = tokens[0], tokens[1]\n",
    " \n",
    "print(\"Similarity:\", token1.similarity(token2))"
   ]
  },
  {
   "cell_type": "code",
   "execution_count": 12,
   "metadata": {
    "colab": {
     "base_uri": "https://localhost:8080/"
    },
    "executionInfo": {
     "elapsed": 340,
     "status": "ok",
     "timestamp": 1631171421171,
     "user": {
      "displayName": "R AKHILANDESHWARI 2048046",
      "photoUrl": "https://lh3.googleusercontent.com/a-/AOh14GiIkCurCgc78Nn4rfHenbXpNzRwE23THtku9QZFlQ=s64",
      "userId": "00252764270953512856"
     },
     "user_tz": -330
    },
    "id": "gJJB4Gq2ZJlc",
    "outputId": "64365c87-d610-4dca-859a-ff32cf31330e"
   },
   "outputs": [
    {
     "name": "stdout",
     "output_type": "stream",
     "text": [
      "natural True 19.669085 True\n",
      "unnatural True 17.994967 True\n",
      "Similarity: 0.44499034\n"
     ]
    }
   ],
   "source": [
    "tokens = nlp('natural unnatural')\n",
    " \n",
    "for token in tokens:\n",
    " print(token.text, token.has_vector, token.vector_norm, token.is_oov)\n",
    "token1, token2 = tokens[0], tokens[1]\n",
    " \n",
    "print(\"Similarity:\", token1.similarity(token2))\n"
   ]
  }
 ],
 "metadata": {
  "colab": {
   "authorship_tag": "ABX9TyOJVNLc1ltCNAfuSnUYKorM",
   "collapsed_sections": [],
   "name": "PROGRAM5_2048046.ipynb",
   "provenance": []
  },
  "kernelspec": {
   "display_name": "Python 3",
   "language": "python",
   "name": "python3"
  },
  "language_info": {
   "codemirror_mode": {
    "name": "ipython",
    "version": 3
   },
   "file_extension": ".py",
   "mimetype": "text/x-python",
   "name": "python",
   "nbconvert_exporter": "python",
   "pygments_lexer": "ipython3",
   "version": "3.8.5"
  }
 },
 "nbformat": 4,
 "nbformat_minor": 1
}
